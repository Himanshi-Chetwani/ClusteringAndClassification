{
 "cells": [
  {
   "cell_type": "code",
   "execution_count": 1,
   "metadata": {},
   "outputs": [],
   "source": [
    "#Import statements\n",
    "import pandas as pd \n",
    "import numpy as np\n",
    "from sklearn.metrics import davies_bouldin_score\n",
    "from sklearn.metrics import calinski_harabasz_score\n",
    "import matplotlib.pyplot as plt\n",
    "from sklearn.cluster import KMeans\n",
    "from sklearn.preprocessing import LabelEncoder\n",
    "from scipy import stats"
   ]
  },
  {
   "cell_type": "code",
   "execution_count": 20,
   "metadata": {},
   "outputs": [
    {
     "name": "stderr",
     "output_type": "stream",
     "text": [
      "C:\\Users\\anubh\\Anaconda3\\lib\\site-packages\\IPython\\core\\interactiveshell.py:3057: DtypeWarning: Columns (7) have mixed types. Specify dtype option on import or set low_memory=False.\n",
      "  interactivity=interactivity, compiler=compiler, result=result)\n"
     ]
    },
    {
     "data": {
      "text/html": [
       "<div>\n",
       "<style scoped>\n",
       "    .dataframe tbody tr th:only-of-type {\n",
       "        vertical-align: middle;\n",
       "    }\n",
       "\n",
       "    .dataframe tbody tr th {\n",
       "        vertical-align: top;\n",
       "    }\n",
       "\n",
       "    .dataframe thead th {\n",
       "        text-align: right;\n",
       "    }\n",
       "</style>\n",
       "<table border=\"1\" class=\"dataframe\">\n",
       "  <thead>\n",
       "    <tr style=\"text-align: right;\">\n",
       "      <th></th>\n",
       "      <th>ID</th>\n",
       "      <th>Title</th>\n",
       "      <th>tconst</th>\n",
       "      <th>Avg_Rating</th>\n",
       "      <th>Num_Votes</th>\n",
       "      <th>Region</th>\n",
       "      <th>Language</th>\n",
       "      <th>isOriginalTitle</th>\n",
       "      <th>TitleType</th>\n",
       "      <th>isAdult</th>\n",
       "      <th>RuntimeMins</th>\n",
       "      <th>Genre</th>\n",
       "    </tr>\n",
       "  </thead>\n",
       "  <tbody>\n",
       "    <tr>\n",
       "      <th>0</th>\n",
       "      <td>1</td>\n",
       "      <td>'...nettirwnU'</td>\n",
       "      <td>tt0468250</td>\n",
       "      <td>5.7</td>\n",
       "      <td>20</td>\n",
       "      <td>NA</td>\n",
       "      <td>NA</td>\n",
       "      <td>1</td>\n",
       "      <td>short</td>\n",
       "      <td>0</td>\n",
       "      <td>9</td>\n",
       "      <td>Drama,Short</td>\n",
       "    </tr>\n",
       "    <tr>\n",
       "      <th>1</th>\n",
       "      <td>2</td>\n",
       "      <td>'...nettirwnU'</td>\n",
       "      <td>tt0468250</td>\n",
       "      <td>5.7</td>\n",
       "      <td>20</td>\n",
       "      <td>CA</td>\n",
       "      <td>NA</td>\n",
       "      <td>0</td>\n",
       "      <td>short</td>\n",
       "      <td>0</td>\n",
       "      <td>9</td>\n",
       "      <td>Drama,Short</td>\n",
       "    </tr>\n",
       "    <tr>\n",
       "      <th>2</th>\n",
       "      <td>3</td>\n",
       "      <td>'11'</td>\n",
       "      <td>tt0195506</td>\n",
       "      <td>5.5</td>\n",
       "      <td>16</td>\n",
       "      <td>US</td>\n",
       "      <td>NA</td>\n",
       "      <td>0</td>\n",
       "      <td>movie</td>\n",
       "      <td>1</td>\n",
       "      <td>72</td>\n",
       "      <td>Adult,Drama</td>\n",
       "    </tr>\n",
       "    <tr>\n",
       "      <th>3</th>\n",
       "      <td>4</td>\n",
       "      <td>'11'</td>\n",
       "      <td>tt0195506</td>\n",
       "      <td>5.5</td>\n",
       "      <td>16</td>\n",
       "      <td>NA</td>\n",
       "      <td>NA</td>\n",
       "      <td>1</td>\n",
       "      <td>movie</td>\n",
       "      <td>1</td>\n",
       "      <td>72</td>\n",
       "      <td>Adult,Drama</td>\n",
       "    </tr>\n",
       "    <tr>\n",
       "      <th>4</th>\n",
       "      <td>5</td>\n",
       "      <td>'15'</td>\n",
       "      <td>tt0313150</td>\n",
       "      <td>6.4</td>\n",
       "      <td>183</td>\n",
       "      <td>SG</td>\n",
       "      <td>NA</td>\n",
       "      <td>0</td>\n",
       "      <td>short</td>\n",
       "      <td>0</td>\n",
       "      <td>25</td>\n",
       "      <td>Comedy,Drama,Short</td>\n",
       "    </tr>\n",
       "  </tbody>\n",
       "</table>\n",
       "</div>"
      ],
      "text/plain": [
       "   ID           Title     tconst  Avg_Rating  Num_Votes Region Language  \\\n",
       "0   1  '...nettirwnU'  tt0468250         5.7         20     NA       NA   \n",
       "1   2  '...nettirwnU'  tt0468250         5.7         20     CA       NA   \n",
       "2   3            '11'  tt0195506         5.5         16     US       NA   \n",
       "3   4            '11'  tt0195506         5.5         16     NA       NA   \n",
       "4   5            '15'  tt0313150         6.4        183     SG       NA   \n",
       "\n",
       "  isOriginalTitle TitleType  isAdult RuntimeMins               Genre  \n",
       "0               1     short        0           9         Drama,Short  \n",
       "1               0     short        0           9         Drama,Short  \n",
       "2               0     movie        1          72         Adult,Drama  \n",
       "3               1     movie        1          72         Adult,Drama  \n",
       "4               0     short        0          25  Comedy,Drama,Short  "
      ]
     },
     "execution_count": 20,
     "metadata": {},
     "output_type": "execute_result"
    }
   ],
   "source": [
    "#Creating dataframe\n",
    "col_names = ['ID', 'Title','tconst','Avg_Rating','Num_Votes','Region','Language','isOriginalTitle','TitleType','isAdult',\n",
    "                'RuntimeMins','Genre']\n",
    "data = pd.read_csv(\"final_data.tsv\",header=0, names=col_names, sep='\\t', keep_default_na = False)\n",
    "data.head()"
   ]
  },
  {
   "cell_type": "code",
   "execution_count": 21,
   "metadata": {},
   "outputs": [],
   "source": [
    "#Adding our own attribute\n",
    "data['Opinion'] = ['Hit' if x >= 5.0 else 'Flop' for x in data['Avg_Rating']]"
   ]
  },
  {
   "cell_type": "code",
   "execution_count": 22,
   "metadata": {},
   "outputs": [],
   "source": [
    "#Making copies of the data frame\n",
    "data_copy = data\n",
    "original_data = data"
   ]
  },
  {
   "cell_type": "code",
   "execution_count": 23,
   "metadata": {},
   "outputs": [
    {
     "data": {
      "text/plain": [
       "0    849736\n",
       "1    132901\n",
       "Name: TitleType, dtype: int64"
      ]
     },
     "execution_count": 23,
     "metadata": {},
     "output_type": "execute_result"
    }
   ],
   "source": [
    "#Modifying Title type attribute\n",
    "data_copy.TitleType = data_copy.TitleType.replace(to_replace='movie', value=0)\n",
    "data_copy.TitleType = data_copy.TitleType.replace(to_replace='short', value=1)\n",
    "data_copy.TitleType.value_counts()"
   ]
  },
  {
   "cell_type": "code",
   "execution_count": 24,
   "metadata": {},
   "outputs": [],
   "source": [
    "#Checking content of RuntimeMins for missing values and modifying RuntimeMins\n",
    "data_copy.RuntimeMins.value_counts()\n",
    "data_copy.RuntimeMins = data_copy.RuntimeMins.replace(to_replace = 'NA', value=0)\n",
    "data_copy.RuntimeMins = data_copy.RuntimeMins.replace(to_replace = r'\\N', value = 0)\n",
    "data_copy.RuntimeMins.value_counts()\n",
    "data_copy.RuntimeMins = data_copy.RuntimeMins.astype(int)\n",
    "data_copy.RuntimeMins = data_copy.RuntimeMins.replace(to_replace=0, value=data.RuntimeMins.mean())"
   ]
  },
  {
   "cell_type": "code",
   "execution_count": 25,
   "metadata": {},
   "outputs": [],
   "source": [
    "#Feature selection : Dropping id,tconst, title, genre and region attributes\n",
    "data_copy = data_copy.drop(['ID'], axis = 1)\n",
    "data_copy = data_copy.drop(['Title'], axis = 1)\n",
    "data_copy = data_copy.drop(['tconst'], axis = 1)\n",
    "data_copy = data_copy.drop(['Genre'], axis = 1)\n",
    "data_copy = data_copy.drop(['Region'],axis = 1)\n",
    "data_copy = data_copy.drop(['isOriginalTitle'], axis =1) "
   ]
  },
  {
   "cell_type": "code",
   "execution_count": 26,
   "metadata": {},
   "outputs": [],
   "source": [
    "#Converting non-numerical attributes to numerical attributes using label encoder\n",
    "data_copy.dtypes\n",
    "labelEncoder = LabelEncoder()\n",
    "labelEncoder.fit(data_copy['Language'])\n",
    "data_copy['Language'] = labelEncoder.transform(data_copy['Language'])\n",
    "labelEncoder.fit(data_copy['Opinion'])\n",
    "data_copy['Opinion'] = labelEncoder.transform(data_copy['Opinion'])"
   ]
  },
  {
   "cell_type": "code",
   "execution_count": 27,
   "metadata": {},
   "outputs": [],
   "source": [
    "#Converting the data frame to an array\n",
    "data_array = np.array(data_copy)"
   ]
  },
  {
   "cell_type": "code",
   "execution_count": 28,
   "metadata": {},
   "outputs": [
    {
     "data": {
      "text/plain": [
       "ID                   int64\n",
       "Title               object\n",
       "tconst              object\n",
       "Avg_Rating         float64\n",
       "Num_Votes            int64\n",
       "Region              object\n",
       "Language            object\n",
       "isOriginalTitle     object\n",
       "TitleType            int64\n",
       "isAdult              int64\n",
       "RuntimeMins        float64\n",
       "Genre               object\n",
       "Opinion             object\n",
       "dtype: object"
      ]
     },
     "execution_count": 28,
     "metadata": {},
     "output_type": "execute_result"
    }
   ],
   "source": [
    "original_data.dtypes"
   ]
  },
  {
   "cell_type": "code",
   "execution_count": 29,
   "metadata": {},
   "outputs": [
    {
     "data": {
      "image/png": "[encoded data removed]",
      "text/plain": [
       "<Figure size 432x288 with 1 Axes>"
      ]
     },
     "metadata": {
      "needs_background": "light"
     },
     "output_type": "display_data"
    }
   ],
   "source": [
    "#Determining the optimal number of clusters(value of k)by elbow method\n",
    "sse = {}\n",
    "for k in range(5, 20,5):\n",
    "    kmeans = KMeans(n_clusters=k).fit(data_array)\n",
    "    sse[k] = kmeans.inertia_ \n",
    "plt.figure()\n",
    "plt.plot(list(sse.keys()), list(sse.values()))\n",
    "plt.xlabel(\"Number of clusters\")\n",
    "plt.ylabel(\"SSE\")\n",
    "plt.title(\"Elbow method to determine k\")\n",
    "plt.show()"
   ]
  },
  {
   "cell_type": "code",
   "execution_count": 30,
   "metadata": {},
   "outputs": [
    {
     "data": {
      "text/plain": [
       "KMeans(algorithm='auto', copy_x=True, init='k-means++', max_iter=100,\n",
       "       n_clusters=10, n_init=10, n_jobs=None, precompute_distances='auto',\n",
       "       random_state=None, tol=0.0001, verbose=0)"
      ]
     },
     "execution_count": 30,
     "metadata": {},
     "output_type": "execute_result"
    }
   ],
   "source": [
    "#Initializing kmeans\n",
    "kmeans = KMeans(n_clusters=10, max_iter=100)\n",
    "kmeans"
   ]
  },
  {
   "cell_type": "code",
   "execution_count": 31,
   "metadata": {},
   "outputs": [],
   "source": [
    "#Implementing kmeans on the data\n",
    "kmeans.fit(data_array)\n",
    "cluster_labels = kmeans.labels_"
   ]
  },
  {
   "cell_type": "code",
   "execution_count": 32,
   "metadata": {},
   "outputs": [],
   "source": [
    "#Convert array to two dimensional indexed structure\n",
    "final_clusters = pd.DataFrame(cluster_labels)"
   ]
  },
  {
   "cell_type": "code",
   "execution_count": 33,
   "metadata": {},
   "outputs": [],
   "source": [
    "original_data['cluster'] = final_clusters"
   ]
  },
  {
   "cell_type": "code",
   "execution_count": 34,
   "metadata": {},
   "outputs": [
    {
     "data": {
      "text/plain": [
       "ID                   int64\n",
       "Title               object\n",
       "tconst              object\n",
       "Avg_Rating         float64\n",
       "Num_Votes            int64\n",
       "Region              object\n",
       "Language            object\n",
       "isOriginalTitle     object\n",
       "TitleType            int64\n",
       "isAdult              int64\n",
       "RuntimeMins        float64\n",
       "Genre               object\n",
       "Opinion             object\n",
       "cluster              int32\n",
       "dtype: object"
      ]
     },
     "execution_count": 34,
     "metadata": {},
     "output_type": "execute_result"
    }
   ],
   "source": [
    "original_data.dtypes"
   ]
  },
  {
   "cell_type": "code",
   "execution_count": 35,
   "metadata": {},
   "outputs": [
    {
     "name": "stdout",
     "output_type": "stream",
     "text": [
      "Davies Bouldin Score: \n",
      "0.49466607590291234\n",
      "Calinski Harabasz Score: \n",
      "6369411.547411497\n"
     ]
    }
   ],
   "source": [
    "#Evaluating clusters \n",
    "print('Davies Bouldin Score: ')\n",
    "print(davies_bouldin_score(data_array,cluster_labels))\n",
    "print('Calinski Harabasz Score: ')\n",
    "print(calinski_harabasz_score(data_array, cluster_labels))"
   ]
  },
  {
   "cell_type": "code",
   "execution_count": 36,
   "metadata": {},
   "outputs": [],
   "source": [
    "#Grouping original data according to clusters formed to understand patterns\n",
    "results = original_data.groupby('cluster')"
   ]
  },
  {
   "cell_type": "code",
   "execution_count": 38,
   "metadata": {},
   "outputs": [
    {
     "data": {
      "text/plain": [
       "Region\n",
       "US      229\n",
       "GR      190\n",
       "ES      153\n",
       "CA      148\n",
       "FI      130\n",
       "MX      123\n",
       "BG      122\n",
       "NA      121\n",
       "RO      120\n",
       "BR      119\n",
       "PT      119\n",
       "RS      119\n",
       "UA      119\n",
       "AR      118\n",
       "RU      118\n",
       "TR      115\n",
       "FR      114\n",
       "CZ      113\n",
       "DE      111\n",
       "LT      111\n",
       "PL      111\n",
       "HU      110\n",
       "HR      106\n",
       "IT      106\n",
       "SI       98\n",
       "PE       89\n",
       "EE       85\n",
       "UY       84\n",
       "SK       67\n",
       "JP       63\n",
       "       ... \n",
       "KR        8\n",
       "XWG       8\n",
       "SUHH      7\n",
       "MK        6\n",
       "TW        6\n",
       "IN        5\n",
       "SG        5\n",
       "NZ        4\n",
       "ZA        4\n",
       "BO        3\n",
       "CR        3\n",
       "EC        3\n",
       "IE        3\n",
       "PY        3\n",
       "BA        2\n",
       "CH        2\n",
       "TH        2\n",
       "XSA       2\n",
       "CU        1\n",
       "DO        1\n",
       "GT        1\n",
       "KZ        1\n",
       "LU        1\n",
       "MA        1\n",
       "MY        1\n",
       "PH        1\n",
       "PK        1\n",
       "PR        1\n",
       "XEU       1\n",
       "YUCS      1\n",
       "Name: Region, Length: 86, dtype: int64"
      ]
     },
     "execution_count": 38,
     "metadata": {},
     "output_type": "execute_result"
    }
   ],
   "source": [
    "#Obtaining value and frequency counts for all regions in cluster 1\n",
    "results.Region.value_counts()[1]"
   ]
  },
  {
   "cell_type": "code",
   "execution_count": 39,
   "metadata": {},
   "outputs": [
    {
     "data": {
      "text/plain": [
       "Avg_Rating\n",
       "7.10    179\n",
       "7.20    153\n",
       "7.25    143\n",
       "6.95    140\n",
       "6.85    138\n",
       "7.15    137\n",
       "7.35    133\n",
       "7.40    130\n",
       "6.80    127\n",
       "6.90    125\n",
       "7.05    121\n",
       "7.30    120\n",
       "6.75    118\n",
       "7.45    118\n",
       "6.70    116\n",
       "7.00    116\n",
       "7.55    111\n",
       "6.65    110\n",
       "7.50    108\n",
       "7.65     99\n",
       "6.55     97\n",
       "6.45     92\n",
       "6.60     92\n",
       "6.50     85\n",
       "7.85     76\n",
       "6.20     71\n",
       "6.30     71\n",
       "7.70     71\n",
       "7.60     68\n",
       "6.40     67\n",
       "       ... \n",
       "5.35      9\n",
       "5.30      8\n",
       "5.40      8\n",
       "5.05      7\n",
       "8.30      7\n",
       "5.20      6\n",
       "8.40      6\n",
       "4.95      5\n",
       "8.25      5\n",
       "8.35      5\n",
       "4.65      4\n",
       "4.70      4\n",
       "4.90      4\n",
       "8.45      4\n",
       "4.50      3\n",
       "4.75      3\n",
       "4.85      3\n",
       "8.50      3\n",
       "8.55      3\n",
       "4.10      2\n",
       "4.80      2\n",
       "5.15      2\n",
       "8.65      2\n",
       "8.90      2\n",
       "3.85      1\n",
       "8.60      1\n",
       "8.70      1\n",
       "8.80      1\n",
       "8.85      1\n",
       "9.10      1\n",
       "Name: Avg_Rating, Length: 89, dtype: int64"
      ]
     },
     "execution_count": 39,
     "metadata": {},
     "output_type": "execute_result"
    }
   ],
   "source": [
    "#Obtaining value and frequency counts for all average ratings in cluster 1\n",
    "results.Avg_Rating.value_counts()[1]"
   ]
  },
  {
   "cell_type": "code",
   "execution_count": 40,
   "metadata": {},
   "outputs": [
    {
     "data": {
      "text/plain": [
       "Genre\n",
       "Action,Adventure,Sci-Fi       459\n",
       "Adventure,Family,Fantasy      320\n",
       "Adventure,Animation,Comedy    207\n",
       "Crime,Drama,Mystery           185\n",
       "Action,Adventure,Comedy       141\n",
       "Drama                         109\n",
       "Comedy                        104\n",
       "Crime,Drama                   104\n",
       "Comedy,Drama,Romance          100\n",
       "Mystery,Thriller              100\n",
       "Crime,Drama,Thriller           96\n",
       "Comedy,Drama                   91\n",
       "Drama,Mystery,Sci-Fi           85\n",
       "Action,Adventure,Drama         76\n",
       "Action,Drama,Mystery           75\n",
       "Action,Adventure,Fantasy       70\n",
       "Action,Drama,War               70\n",
       "Action,Adventure,Animation     69\n",
       "Comedy,Crime                   68\n",
       "Action,Mystery,Thriller        67\n",
       "Action,Biography,Drama         66\n",
       "Drama,Sci-Fi,Thriller          65\n",
       "Action,Adventure               59\n",
       "Adventure,Fantasy              55\n",
       "Drama,Family,Fantasy           53\n",
       "Adventure,Comedy,Sci-Fi        51\n",
       "Drama,Mystery                  50\n",
       "Action,Thriller                49\n",
       "Action,Sci-Fi                  43\n",
       "Drama,Fantasy,Romance          43\n",
       "                             ... \n",
       "Drama,History                  41\n",
       "Adventure,Drama,Romance        39\n",
       "Biography,Drama,Romance        39\n",
       "Action,Adventure,Thriller      38\n",
       "Action,Mystery,Sci-Fi          38\n",
       "Adventure,Comedy,Family        38\n",
       "Comedy,Fantasy,Romance         38\n",
       "Drama,Romance                  37\n",
       "Action,Comedy,Crime            36\n",
       "Action,Adventure,Crime         35\n",
       "Adventure,Drama,Thriller       35\n",
       "Biography,Drama,Music          35\n",
       "Drama,Romance,Sci-Fi           35\n",
       "Action,Adventure,Mystery       34\n",
       "Action,Comedy,Mystery          34\n",
       "Action,Crime,Mystery           34\n",
       "Comedy,Romance                 34\n",
       "Action,Drama,Fantasy           33\n",
       "Biography,Drama,History        33\n",
       "Crime,Horror,Mystery           33\n",
       "Horror,Thriller                33\n",
       "Action,Crime,Drama             32\n",
       "Action,Drama,History           32\n",
       "Biography,Drama,Thriller       31\n",
       "Horror,Mystery,Thriller        31\n",
       "Comedy,Horror                  29\n",
       "Action,Drama,Sci-Fi            28\n",
       "Adventure,Drama,Fantasy        28\n",
       "Action,Crime,Thriller          26\n",
       "Action,Sci-Fi,Thriller         23\n",
       "Name: Genre, Length: 65, dtype: int64"
      ]
     },
     "execution_count": 40,
     "metadata": {},
     "output_type": "execute_result"
    }
   ],
   "source": [
    "#Obtaining value and frequency counts of all genres in cluster 1\n",
    "results.Genre.value_counts()[1]"
   ]
  }
 ],
 "metadata": {
  "kernelspec": {
   "display_name": "Python 3",
   "language": "python",
   "name": "python3"
  },
  "language_info": {
   "codemirror_mode": {
    "name": "ipython",
    "version": 3
   },
   "file_extension": ".py",
   "mimetype": "text/x-python",
   "name": "python",
   "nbconvert_exporter": "python",
   "pygments_lexer": "ipython3",
   "version": "3.7.3"
  }
 },
 "nbformat": 4,
 "nbformat_minor": 2
}
